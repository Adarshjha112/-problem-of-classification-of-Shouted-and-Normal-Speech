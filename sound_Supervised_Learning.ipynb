{
  "nbformat": 4,
  "nbformat_minor": 0,
  "metadata": {
    "colab": {
      "name": " sound-Supervised Learning.ipynb",
      "provenance": [],
      "collapsed_sections": [],
      "include_colab_link": true
    },
    "kernelspec": {
      "display_name": "Python 3",
      "language": "python",
      "name": "python3"
    },
    "language_info": {
      "codemirror_mode": {
        "name": "ipython",
        "version": 3
      },
      "file_extension": ".py",
      "mimetype": "text/x-python",
      "name": "python",
      "nbconvert_exporter": "python",
      "pygments_lexer": "ipython3",
      "version": "3.8.3"
    }
  },
  "cells": [
    {
      "cell_type": "markdown",
      "metadata": {
        "id": "view-in-github",
        "colab_type": "text"
      },
      "source": [
        "<a href=\"https://colab.research.google.com/github/Adarshjha112/-problem-of-classification-of-Shouted-and-Normal-Speech/blob/master/sound_Supervised_Learning.ipynb\" target=\"_parent\"><img src=\"https://colab.research.google.com/assets/colab-badge.svg\" alt=\"Open In Colab\"/></a>"
      ]
    },
    {
      "cell_type": "code",
      "metadata": {
        "colab_type": "code",
        "id": "eMcT1zJuF3Ov",
        "colab": {}
      },
      "source": [
        "import numpy as np"
      ],
      "execution_count": 30,
      "outputs": []
    },
    {
      "cell_type": "code",
      "metadata": {
        "colab_type": "code",
        "id": "8geUMpvkGWNQ",
        "colab": {
          "base_uri": "https://localhost:8080/",
          "height": 51
        },
        "outputId": "1ecc1606-33e8-498d-a685-85bb976af97e"
      },
      "source": [
        "trn_N=np.load('/content/Train_MFCC_N_2000.npy')\n",
        "trn_S=np.load('/content/Train_MFCC_S_2000.npy')\n",
        "print(trn_N.shape)\n",
        "print(trn_S.shape)"
      ],
      "execution_count": 31,
      "outputs": [
        {
          "output_type": "stream",
          "text": [
            "(2000, 60)\n",
            "(2000, 60)\n"
          ],
          "name": "stdout"
        }
      ]
    },
    {
      "cell_type": "code",
      "metadata": {
        "id": "jowclqhdKdOE",
        "colab_type": "code",
        "colab": {}
      },
      "source": [
        ""
      ],
      "execution_count": null,
      "outputs": []
    },
    {
      "cell_type": "code",
      "metadata": {
        "colab_type": "code",
        "id": "UqB9m4evGsQ-",
        "colab": {}
      },
      "source": [
        "trn_D=np.concatenate((trn_N,trn_S),axis=0)"
      ],
      "execution_count": 32,
      "outputs": []
    },
    {
      "cell_type": "code",
      "metadata": {
        "colab_type": "code",
        "id": "Oa750BKrHPBF",
        "colab": {}
      },
      "source": [
        "meanVec=np.mean(trn_D,axis=0)\n",
        "stdVec=np.std(trn_D,axis=0)"
      ],
      "execution_count": 33,
      "outputs": []
    },
    {
      "cell_type": "code",
      "metadata": {
        "colab_type": "code",
        "id": "Z7BKDFjPI0SN",
        "colab": {}
      },
      "source": [
        "norm_trn_D=np.zeros(trn_D.shape)"
      ],
      "execution_count": 34,
      "outputs": []
    },
    {
      "cell_type": "code",
      "metadata": {
        "colab_type": "code",
        "id": "rqlOrdwMKOV0",
        "colab": {}
      },
      "source": [
        "for i in range(len(norm_trn_D)):\n",
        "  norm_trn_D[i]=(trn_D[i]-meanVec)/stdVec"
      ],
      "execution_count": 35,
      "outputs": []
    },
    {
      "cell_type": "code",
      "metadata": {
        "colab_type": "code",
        "id": "8WZclTAvM4fY",
        "colab": {}
      },
      "source": [
        "from keras.layers import Input, Dense\n",
        "from keras.optimizers import Adam\n",
        "from keras.models import Model"
      ],
      "execution_count": 36,
      "outputs": []
    },
    {
      "cell_type": "code",
      "metadata": {
        "colab_type": "code",
        "id": "1i23tMyBUZ5k",
        "colab": {}
      },
      "source": [
        "model_input = Input(shape=(trn_D.shape[1],), name='model_input')\n",
        "model_output = Dense(1, activation='sigmoid',name='model_output')(model_input)\n",
        "model = Model(model_input, model_output)\n",
        "# Compile model\n",
        "model.compile(loss='binary_crossentropy', optimizer='adam', metrics=['accuracy'])"
      ],
      "execution_count": 37,
      "outputs": []
    },
    {
      "cell_type": "code",
      "metadata": {
        "colab_type": "code",
        "id": "ZX2gxqL4YqnB",
        "colab": {
          "base_uri": "https://localhost:8080/",
          "height": 221
        },
        "outputId": "5e1bd2b1-aa9a-4148-f50f-78ba412bad50"
      },
      "source": [
        "model.summary()"
      ],
      "execution_count": 38,
      "outputs": [
        {
          "output_type": "stream",
          "text": [
            "Model: \"functional_3\"\n",
            "_________________________________________________________________\n",
            "Layer (type)                 Output Shape              Param #   \n",
            "=================================================================\n",
            "model_input (InputLayer)     [(None, 60)]              0         \n",
            "_________________________________________________________________\n",
            "model_output (Dense)         (None, 1)                 61        \n",
            "=================================================================\n",
            "Total params: 61\n",
            "Trainable params: 61\n",
            "Non-trainable params: 0\n",
            "_________________________________________________________________\n"
          ],
          "name": "stdout"
        }
      ]
    },
    {
      "cell_type": "code",
      "metadata": {
        "colab_type": "code",
        "id": "f_0v0Z9-ZDcu",
        "colab": {
          "base_uri": "https://localhost:8080/",
          "height": 374
        },
        "outputId": "51d68e16-a600-4396-8b3f-ef3af0bc1e05"
      },
      "source": [
        "model.fit(\n",
        " x = norm_trn_D\n",
        " , y = np.concatenate((np.zeros(shape=(trn_N.shape[0],),dtype=np.int8),np.ones(shape=(trn_S.shape[0],),dtype=np.int8)),axis=0)\n",
        " , batch_size = 32\n",
        " , shuffle = True\n",
        " , epochs = 10\n",
        ")"
      ],
      "execution_count": 39,
      "outputs": [
        {
          "output_type": "stream",
          "text": [
            "Epoch 1/10\n",
            "125/125 [==============================] - 0s 814us/step - loss: 0.6611 - accuracy: 0.6480\n",
            "Epoch 2/10\n",
            "125/125 [==============================] - 0s 863us/step - loss: 0.4427 - accuracy: 0.8198\n",
            "Epoch 3/10\n",
            "125/125 [==============================] - 0s 806us/step - loss: 0.3334 - accuracy: 0.8972\n",
            "Epoch 4/10\n",
            "125/125 [==============================] - 0s 817us/step - loss: 0.2713 - accuracy: 0.9202\n",
            "Epoch 5/10\n",
            "125/125 [==============================] - 0s 861us/step - loss: 0.2316 - accuracy: 0.9333\n",
            "Epoch 6/10\n",
            "125/125 [==============================] - 0s 914us/step - loss: 0.2043 - accuracy: 0.9410\n",
            "Epoch 7/10\n",
            "125/125 [==============================] - 0s 836us/step - loss: 0.1843 - accuracy: 0.9460\n",
            "Epoch 8/10\n",
            "125/125 [==============================] - 0s 791us/step - loss: 0.1689 - accuracy: 0.9515\n",
            "Epoch 9/10\n",
            "125/125 [==============================] - 0s 798us/step - loss: 0.1569 - accuracy: 0.9542\n",
            "Epoch 10/10\n",
            "125/125 [==============================] - 0s 837us/step - loss: 0.1467 - accuracy: 0.9575\n"
          ],
          "name": "stdout"
        },
        {
          "output_type": "execute_result",
          "data": {
            "text/plain": [
              "<tensorflow.python.keras.callbacks.History at 0x7efc63500710>"
            ]
          },
          "metadata": {
            "tags": []
          },
          "execution_count": 39
        }
      ]
    },
    {
      "cell_type": "code",
      "metadata": {
        "colab_type": "code",
        "id": "q5hfIoYPcvmx",
        "colab": {
          "base_uri": "https://localhost:8080/",
          "height": 51
        },
        "outputId": "45718ac0-df39-4d08-c8f9-b26e23943a3e"
      },
      "source": [
        "tst_N=np.load('/content/Test_MFCC_N_500.npy')\n",
        "tst_S=np.load('/content/Test_MFCC_S_500.npy')\n",
        "print(tst_N.shape)\n",
        "print(tst_S.shape)"
      ],
      "execution_count": 40,
      "outputs": [
        {
          "output_type": "stream",
          "text": [
            "(500, 60)\n",
            "(500, 60)\n"
          ],
          "name": "stdout"
        }
      ]
    },
    {
      "cell_type": "code",
      "metadata": {
        "colab_type": "code",
        "id": "UC2i5vJcgFv1",
        "colab": {}
      },
      "source": [
        "tst_D=np.concatenate((tst_N,tst_S),axis=0)"
      ],
      "execution_count": 41,
      "outputs": []
    },
    {
      "cell_type": "code",
      "metadata": {
        "colab_type": "code",
        "id": "7zFXwyLDgVvt",
        "colab": {}
      },
      "source": [
        "norm_tst_D=np.zeros(tst_D.shape)"
      ],
      "execution_count": 42,
      "outputs": []
    },
    {
      "cell_type": "code",
      "metadata": {
        "colab_type": "code",
        "id": "f17sRGEcgmrn",
        "colab": {}
      },
      "source": [
        "for i in range(len(norm_tst_D)):\n",
        "  norm_tst_D[i]=(tst_D[i]-meanVec)/stdVec"
      ],
      "execution_count": 43,
      "outputs": []
    },
    {
      "cell_type": "code",
      "metadata": {
        "colab_type": "code",
        "id": "FaXxwyuSj9_-",
        "colab": {}
      },
      "source": [
        "preds=model.predict(norm_tst_D)"
      ],
      "execution_count": 44,
      "outputs": []
    },
    {
      "cell_type": "code",
      "metadata": {
        "colab_type": "code",
        "id": "B3HJMORamnvt",
        "colab": {}
      },
      "source": [
        "TP=0\n",
        "FP=0\n",
        "TN=0\n",
        "FN=0"
      ],
      "execution_count": 45,
      "outputs": []
    },
    {
      "cell_type": "code",
      "metadata": {
        "colab_type": "code",
        "id": "evcVawFnmK_I",
        "colab": {}
      },
      "source": [
        "for i in range(len(preds)):\n",
        "  if(i<len(tst_N)):\n",
        "    if(preds[i][0]<0.5):\n",
        "      TN=TN+1\n",
        "    else:\n",
        "      FP=FP+1\n",
        "  else:\n",
        "    if(preds[i][0]>=0.5):\n",
        "      TP=TP+1\n",
        "    else:\n",
        "      FN=FN+1\n"
      ],
      "execution_count": 46,
      "outputs": []
    },
    {
      "cell_type": "code",
      "metadata": {
        "colab_type": "code",
        "id": "tV92R48fhMvY",
        "colab": {}
      },
      "source": [
        "import matplotlib.pyplot as plt"
      ],
      "execution_count": 47,
      "outputs": []
    },
    {
      "cell_type": "code",
      "metadata": {
        "colab_type": "code",
        "id": "jv3njkpEjbAC",
        "colab": {
          "base_uri": "https://localhost:8080/",
          "height": 265
        },
        "outputId": "f983a8d6-2d80-454a-c862-f0fc63173642"
      },
      "source": [
        "plt.table(cellText=[[TP,FN],[FP,TN]],cellLoc='center',colWidths=[0.5,0.5],rowLabels=['Shouted(Actual label)','Normal(Actual label)'],colLabels=['Shouted (Prediction)','Normal(Prediction)'],loc=0)\n",
        "plt.axis('off')\n"
      ],
      "execution_count": 48,
      "outputs": [
        {
          "output_type": "execute_result",
          "data": {
            "text/plain": [
              "(0.0, 1.0, 0.0, 1.0)"
            ]
          },
          "metadata": {
            "tags": []
          },
          "execution_count": 48
        },
        {
          "output_type": "display_data",
          "data": {
            "image/png": "[encoded data removed]",
            "text/plain": [
              "<Figure size 432x288 with 1 Axes>"
            ]
          },
          "metadata": {
            "tags": [],
            "needs_background": "light"
          }
        }
      ]
    },
    {
      "cell_type": "code",
      "metadata": {
        "colab_type": "code",
        "id": "Gks1ttPfub-O",
        "colab": {
          "base_uri": "https://localhost:8080/",
          "height": 85
        },
        "outputId": "ff87bfdb-f6c1-4078-d547-af0e600cf308"
      },
      "source": [
        "print('TPR=',TP/(TP+FN))\n",
        "print('TNR=',TN/(FP+TN))\n",
        "print('FPR=',1-(TN/(FP+TN)))\n",
        "print('ACC=',(TP+TN)/(TP+FN+FP+TN))"
      ],
      "execution_count": 49,
      "outputs": [
        {
          "output_type": "stream",
          "text": [
            "TPR= 0.998\n",
            "TNR= 0.956\n",
            "FPR= 0.04400000000000004\n",
            "ACC= 0.977\n"
          ],
          "name": "stdout"
        }
      ]
    },
    {
      "cell_type": "code",
      "metadata": {
        "colab_type": "code",
        "id": "wo_7rKPFxHC4",
        "colab": {
          "base_uri": "https://localhost:8080/",
          "height": 102
        },
        "outputId": "d33dc38a-9698-4ea1-88c3-32fd239d4a0d"
      },
      "source": [
        "print('PPV=',TP/(TP+FP))\n",
        "print('NPV=',TN/(TN+FN))\n",
        "TNR=TN/(FP+TN)\n",
        "TPR=TP/(TP+FN)\n",
        "print('BA=',(TNR+TPR)/2)\n",
        "print('F1(P)=',(2*TP)/((2*TP)+FP+FN))\n",
        "print('F1(N)=',(2*TN)/((2*TN)+FN+FP))"
      ],
      "execution_count": 50,
      "outputs": [
        {
          "output_type": "stream",
          "text": [
            "PPV= 0.9577735124760077\n",
            "NPV= 0.9979123173277662\n",
            "BA= 0.977\n",
            "F1(P)= 0.9774730656219393\n",
            "F1(N)= 0.9765066394279878\n"
          ],
          "name": "stdout"
        }
      ]
    }
  ]
}