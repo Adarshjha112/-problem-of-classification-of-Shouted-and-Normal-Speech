{
  "nbformat": 4,
  "nbformat_minor": 0,
  "metadata": {
    "colab": {
      "name": " problem of classification of Shouted and Normal Speech.ipynb",
      "provenance": [],
      "collapsed_sections": [],
      "authorship_tag": "ABX9TyNXnGTbUomSAj/O2hlus0BQ",
      "include_colab_link": true
    },
    "kernelspec": {
      "name": "python3",
      "display_name": "Python 3"
    }
  },
  "cells": [
    {
      "cell_type": "markdown",
      "metadata": {
        "id": "view-in-github",
        "colab_type": "text"
      },
      "source": [
        "<a href=\"https://colab.research.google.com/github/Adarshjha112/-problem-of-classification-of-Shouted-and-Normal-Speech/blob/master/problem_of_classification_of_Shouted_and_Normal_Speech.ipynb\" target=\"_parent\"><img src=\"https://colab.research.google.com/assets/colab-badge.svg\" alt=\"Open In Colab\"/></a>"
      ]
    },
    {
      "cell_type": "code",
      "metadata": {
        "id": "H1GGSCOK86ib",
        "colab_type": "code",
        "colab": {}
      },
      "source": [
        "import numpy as np\n",
        "import matplotlib.pyplot as plt\n"
      ],
      "execution_count": 1,
      "outputs": []
    },
    {
      "cell_type": "markdown",
      "metadata": {
        "id": "bJrNByrx_in3",
        "colab_type": "text"
      },
      "source": [
        "Load dataset "
      ]
    },
    {
      "cell_type": "code",
      "metadata": {
        "id": "yRUb_Yu59rQ2",
        "colab_type": "code",
        "colab": {
          "base_uri": "https://localhost:8080/",
          "height": 459
        },
        "outputId": "5ecfc9ff-7a76-4d51-d7f0-a85e05cff9c4"
      },
      "source": [
        "N =np.load('MFCC_N.npy')\n",
        "S =np.load('MFCC_S.npy')\n",
        "print(N)\n",
        "print(S)"
      ],
      "execution_count": null,
      "outputs": [
        {
          "output_type": "stream",
          "text": [
            "[[-3.07566538e+00 -7.51789641e+00 -1.37935714e+00 ... -1.82278820e-01\n",
            "  -1.28024164e-01 -5.51434103e-02]\n",
            " [-4.74620322e+00 -8.24191711e+00 -3.29561593e+00 ... -1.82278820e-01\n",
            "  -1.28024164e-01 -5.51434103e-02]\n",
            " [-6.14211871e+00 -7.14666554e+00 -3.27335573e+00 ... -1.82278820e-01\n",
            "  -1.28024164e-01 -5.51434103e-02]\n",
            " ...\n",
            " [-7.71371120e+00 -6.14062540e+00 -1.47728654e+00 ...  5.78613172e-04\n",
            "  -3.16157648e-02  3.14920383e-02]\n",
            " [-8.41157271e+00 -6.76442848e+00 -2.88334322e+00 ... -7.77647217e-02\n",
            "  -3.92632496e-02  5.87718113e-02]\n",
            " [-7.85749522e+00 -6.23226913e+00 -2.67651362e+00 ... -1.07297892e-01\n",
            "  -2.10350006e-02  7.70180031e-02]]\n",
            "[[-1.93120017 -8.69720499 -3.49635365 ... -0.03773189  0.01375286\n",
            "   0.08436367]\n",
            " [-2.37015629 -8.50103375 -3.38788939 ... -0.03773189  0.01375286\n",
            "   0.08436367]\n",
            " [-1.21453927 -7.43380569 -2.07692403 ... -0.03773189  0.01375286\n",
            "   0.08436367]\n",
            " ...\n",
            " [-0.44452607 -2.42714359  1.14703097 ...  0.06772775 -0.09744316\n",
            "   0.05741571]\n",
            " [-0.95209519 -2.48856936  0.94593755 ...  0.08053609 -0.04815612\n",
            "   0.0702999 ]\n",
            " [-1.02272398 -3.08247184  0.86577434 ...  0.08053609 -0.04815612\n",
            "   0.0702999 ]]\n"
          ],
          "name": "stdout"
        }
      ]
    },
    {
      "cell_type": "code",
      "metadata": {
        "id": "Hx6mKgp6_tbE",
        "colab_type": "code",
        "colab": {
          "base_uri": "https://localhost:8080/",
          "height": 51
        },
        "outputId": "d712d6a3-965d-4c0f-aaca-bf6a1039b6db"
      },
      "source": [
        "print(N.shape)\n",
        "print(S.shape)\n"
      ],
      "execution_count": null,
      "outputs": [
        {
          "output_type": "stream",
          "text": [
            "(5000, 60)\n",
            "(5000, 60)\n"
          ],
          "name": "stdout"
        }
      ]
    },
    {
      "cell_type": "markdown",
      "metadata": {
        "id": "UK6qjyMu_0Xh",
        "colab_type": "text"
      },
      "source": [
        "Centroid and covarience matrices \n",
        "\n"
      ]
    },
    {
      "cell_type": "code",
      "metadata": {
        "id": "b80mF8rxATW8",
        "colab_type": "code",
        "colab": {
          "base_uri": "https://localhost:8080/",
          "height": 51
        },
        "outputId": "3cccfa7e-10fa-4941-bcdf-eb75cbfc5c20"
      },
      "source": [
        "Mn = np.mean(N,axis=0)\n",
        "Ms= np.mean(S,axis = 0)\n",
        "print(Mn.shape)\n",
        "print(Ms.shape)"
      ],
      "execution_count": null,
      "outputs": [
        {
          "output_type": "stream",
          "text": [
            "(60,)\n",
            "(60,)\n"
          ],
          "name": "stdout"
        }
      ]
    },
    {
      "cell_type": "code",
      "metadata": {
        "id": "j5BvNmfGB3Zf",
        "colab_type": "code",
        "colab": {
          "base_uri": "https://localhost:8080/",
          "height": 51
        },
        "outputId": "4c624aaf-6f25-4d88-a33b-f464e8c56827"
      },
      "source": [
        "Cn =np.cov(N,rowvar=False) \n",
        "Cs=np.cov(S,rowvar=False) \n",
        "print(Cn.shape) \n",
        "print(Cs.shape)"
      ],
      "execution_count": null,
      "outputs": [
        {
          "output_type": "stream",
          "text": [
            "(60, 60)\n",
            "(60, 60)\n"
          ],
          "name": "stdout"
        }
      ]
    },
    {
      "cell_type": "markdown",
      "metadata": {
        "id": "fyZSOb8MCCli",
        "colab_type": "text"
      },
      "source": [
        "compute the optimal direction vector w(unit vector) for Lda"
      ]
    },
    {
      "cell_type": "code",
      "metadata": {
        "id": "tObEOvh-CYbE",
        "colab_type": "code",
        "colab": {}
      },
      "source": [
        "Sw =Cn+Cs\n",
        "\n",
        "Sw_inv = np.linalg.inv(Sw)"
      ],
      "execution_count": null,
      "outputs": []
    },
    {
      "cell_type": "code",
      "metadata": {
        "id": "eB30lI0ADAaa",
        "colab_type": "code",
        "colab": {
          "base_uri": "https://localhost:8080/",
          "height": 187
        },
        "outputId": "b4ca8a5c-3d26-449c-9e07-99401953191b"
      },
      "source": [
        "w=np.dot(Sw_inv,(Mn-Ms))\n",
        "w_hat=w / np.linalg.norm(w)\n",
        "print(w_hat)"
      ],
      "execution_count": null,
      "outputs": [
        {
          "output_type": "stream",
          "text": [
            "[-0.05013247 -0.02059452 -0.01147756 -0.00076913  0.020969    0.03169092\n",
            "  0.02056796  0.05929642 -0.00243547  0.02406555  0.06233557  0.02164728\n",
            "  0.03385221  0.01278151  0.05648473 -0.04961829  0.08909274 -0.03341232\n",
            "  0.05157907 -0.03478414  0.00554002  0.00273071 -0.00941994  0.02006019\n",
            "  0.0062669  -0.00815022 -0.00302164 -0.01945601 -0.01438128 -0.04405062\n",
            "  0.00389541  0.00458378 -0.05268316  0.03480734 -0.01620402 -0.01436791\n",
            " -0.00345099  0.0043939   0.00400961 -0.01123724 -0.29476108 -0.13029349\n",
            " -0.06464455  0.02897804  0.14512398  0.21297685  0.11160177  0.23896296\n",
            "  0.02695199  0.10490741  0.32085395  0.1062125   0.19659521  0.11972019\n",
            "  0.3170081  -0.25783691  0.49174749 -0.13488922  0.28860523 -0.15750495]\n"
          ],
          "name": "stdout"
        }
      ]
    },
    {
      "cell_type": "markdown",
      "metadata": {
        "id": "fg9gJaXsDcg3",
        "colab_type": "text"
      },
      "source": [
        "4. project the vector data in array N and s and genertate the respective array zN and zS"
      ]
    },
    {
      "cell_type": "code",
      "metadata": {
        "id": "0_RclWSUDukx",
        "colab_type": "code",
        "colab": {
          "base_uri": "https://localhost:8080/",
          "height": 51
        },
        "outputId": "3a41d820-cc53-44f0-c2a2-979edc1e9ac0"
      },
      "source": [
        "zN = np.dot(N,w_hat)\n",
        "zS = np.dot(S,w_hat)\n",
        "print(zN.shape)\n",
        "print(zS.shape)"
      ],
      "execution_count": null,
      "outputs": [
        {
          "output_type": "stream",
          "text": [
            "(5000,)\n",
            "(5000,)\n"
          ],
          "name": "stdout"
        }
      ]
    },
    {
      "cell_type": "markdown",
      "metadata": {
        "id": "z0J74C69EF8E",
        "colab_type": "text"
      },
      "source": [
        "  5 .plot  the graph in histogram in two different colors\n",
        "\n"
      ]
    },
    {
      "cell_type": "code",
      "metadata": {
        "id": "NuYx3ieQEWsW",
        "colab_type": "code",
        "colab": {
          "base_uri": "https://localhost:8080/",
          "height": 282
        },
        "outputId": "258d76d7-6892-4f81-e367-aca417aa38df"
      },
      "source": [
        "plt.hist(zN.reshape(5000,1),color='red')\n",
        "plt.hist(zS.reshape(5000,1),color='blue')\n",
        "plt.show\n"
      ],
      "execution_count": null,
      "outputs": [
        {
          "output_type": "execute_result",
          "data": {
            "text/plain": [
              "<function matplotlib.pyplot.show>"
            ]
          },
          "metadata": {
            "tags": []
          },
          "execution_count": 13
        },
        {
          "output_type": "display_data",
          "data": {
            "image/png": "[encoded data removed]",
            "text/plain": [
              "<Figure size 432x288 with 1 Axes>"
            ]
          },
          "metadata": {
            "tags": [],
            "needs_background": "light"
          }
        }
      ]
    },
    {
      "cell_type": "code",
      "metadata": {
        "id": "1-4yoWJKEScX",
        "colab_type": "code",
        "colab": {}
      },
      "source": [
        ""
      ],
      "execution_count": null,
      "outputs": []
    },
    {
      "cell_type": "code",
      "metadata": {
        "id": "2VsE9dPUENrW",
        "colab_type": "code",
        "colab": {}
      },
      "source": [
        ""
      ],
      "execution_count": null,
      "outputs": []
    }
  ]
}